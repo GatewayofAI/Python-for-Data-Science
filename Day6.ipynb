{
 "cells": [
  {
   "cell_type": "markdown",
   "id": "e5bffd64",
   "metadata": {},
   "source": [
    "# Topics to be covered:\n",
    "* List Comprehension\n",
    "* Dictonary Comprehension\n",
    "* Set Comprehension"
   ]
  },
  {
   "cell_type": "markdown",
   "id": "43cbf6cc",
   "metadata": {},
   "source": [
    "## List Comprehension"
   ]
  },
  {
   "cell_type": "code",
   "execution_count": 26,
   "id": "75090df6",
   "metadata": {},
   "outputs": [
    {
     "name": "stdout",
     "output_type": "stream",
     "text": [
      "Python\n",
      "Java\n",
      "C\n",
      "C++\n"
     ]
    }
   ],
   "source": [
    "lst = [\"Python\", \"Java\", \"C\", \"C++\"]\n",
    "\n",
    "for val in lst:\n",
    "    print(val)"
   ]
  },
  {
   "cell_type": "code",
   "execution_count": 27,
   "id": "440ea72f",
   "metadata": {},
   "outputs": [
    {
     "name": "stdout",
     "output_type": "stream",
     "text": [
      "Python\n",
      "Java\n",
      "C\n",
      "C++\n"
     ]
    },
    {
     "data": {
      "text/plain": [
       "[None, None, None, None]"
      ]
     },
     "execution_count": 27,
     "metadata": {},
     "output_type": "execute_result"
    }
   ],
   "source": [
    "[print(val) for val in lst]"
   ]
  },
  {
   "cell_type": "code",
   "execution_count": 28,
   "id": "38219027",
   "metadata": {},
   "outputs": [],
   "source": [
    "new_lst = [val for val in lst]"
   ]
  },
  {
   "cell_type": "code",
   "execution_count": 30,
   "id": "9ea5515b",
   "metadata": {},
   "outputs": [
    {
     "data": {
      "text/plain": [
       "['Python', 'Java', 'C', 'C++']"
      ]
     },
     "execution_count": 30,
     "metadata": {},
     "output_type": "execute_result"
    }
   ],
   "source": [
    "new_lst"
   ]
  },
  {
   "cell_type": "code",
   "execution_count": null,
   "id": "074a1da4",
   "metadata": {},
   "outputs": [],
   "source": []
  },
  {
   "cell_type": "code",
   "execution_count": 32,
   "id": "b9ffa097",
   "metadata": {},
   "outputs": [],
   "source": [
    "new_lst1 = []"
   ]
  },
  {
   "cell_type": "code",
   "execution_count": 37,
   "id": "d08f3a67",
   "metadata": {},
   "outputs": [],
   "source": [
    "for val in lst:\n",
    "    new_lst1.append(val)"
   ]
  },
  {
   "cell_type": "code",
   "execution_count": 34,
   "id": "9eb64c28",
   "metadata": {},
   "outputs": [
    {
     "data": {
      "text/plain": [
       "['Python', 'Java', 'C', 'C++']"
      ]
     },
     "execution_count": 34,
     "metadata": {},
     "output_type": "execute_result"
    }
   ],
   "source": [
    "new_lst1"
   ]
  },
  {
   "cell_type": "code",
   "execution_count": 35,
   "id": "21eeb362",
   "metadata": {},
   "outputs": [
    {
     "data": {
      "text/plain": [
       "['Python', 'Java', 'C', 'C++']"
      ]
     },
     "execution_count": 35,
     "metadata": {},
     "output_type": "execute_result"
    }
   ],
   "source": [
    "lst"
   ]
  },
  {
   "cell_type": "code",
   "execution_count": 38,
   "id": "040711bd",
   "metadata": {},
   "outputs": [],
   "source": [
    "upp_lst = [val.upper() for val in lst]"
   ]
  },
  {
   "cell_type": "code",
   "execution_count": 39,
   "id": "608af77a",
   "metadata": {},
   "outputs": [
    {
     "data": {
      "text/plain": [
       "['PYTHON', 'JAVA', 'C', 'C++']"
      ]
     },
     "execution_count": 39,
     "metadata": {},
     "output_type": "execute_result"
    }
   ],
   "source": [
    "upp_lst"
   ]
  },
  {
   "cell_type": "code",
   "execution_count": 40,
   "id": "57eeb1d3",
   "metadata": {},
   "outputs": [],
   "source": [
    "Bool_lst = [True, True, False, False, True, False]\n",
    "\n",
    "uppdated_lst = [1 if val == True else 0 for val in Bool_lst]"
   ]
  },
  {
   "cell_type": "code",
   "execution_count": 41,
   "id": "6a963af2",
   "metadata": {},
   "outputs": [
    {
     "data": {
      "text/plain": [
       "[1, 1, 0, 0, 1, 0]"
      ]
     },
     "execution_count": 41,
     "metadata": {},
     "output_type": "execute_result"
    }
   ],
   "source": [
    "uppdated_lst"
   ]
  },
  {
   "cell_type": "code",
   "execution_count": 42,
   "id": "8b17c289",
   "metadata": {},
   "outputs": [],
   "source": [
    "lst1 = []\n",
    "for val in Bool_lst:\n",
    "    if val == True:\n",
    "        lst1.append(1)\n",
    "    else:\n",
    "        lst1.append(0)"
   ]
  },
  {
   "cell_type": "code",
   "execution_count": 43,
   "id": "2015df21",
   "metadata": {},
   "outputs": [
    {
     "data": {
      "text/plain": [
       "[1, 1, 0, 0, 1, 0]"
      ]
     },
     "execution_count": 43,
     "metadata": {},
     "output_type": "execute_result"
    }
   ],
   "source": [
    "lst1"
   ]
  },
  {
   "cell_type": "code",
   "execution_count": 44,
   "id": "8a8feb35",
   "metadata": {},
   "outputs": [
    {
     "data": {
      "text/plain": [
       "['Python', 'Java', 'C', 'C++']"
      ]
     },
     "execution_count": 44,
     "metadata": {},
     "output_type": "execute_result"
    }
   ],
   "source": [
    "lst"
   ]
  },
  {
   "cell_type": "code",
   "execution_count": null,
   "id": "a3ad0857",
   "metadata": {},
   "outputs": [],
   "source": [
    "d = {\"key1\": 3, \"key\":7}"
   ]
  }
 ],
 "metadata": {
  "kernelspec": {
   "display_name": "Python 3 (ipykernel)",
   "language": "python",
   "name": "python3"
  },
  "language_info": {
   "codemirror_mode": {
    "name": "ipython",
    "version": 3
   },
   "file_extension": ".py",
   "mimetype": "text/x-python",
   "name": "python",
   "nbconvert_exporter": "python",
   "pygments_lexer": "ipython3",
   "version": "3.11.5"
  }
 },
 "nbformat": 4,
 "nbformat_minor": 5
}
