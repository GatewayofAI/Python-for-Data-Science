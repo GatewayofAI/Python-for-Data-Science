{
 "cells": [
  {
   "cell_type": "markdown",
   "id": "b58f3c43",
   "metadata": {},
   "source": [
    "# Topics to be covered:\n",
    "* Python Lambda Function\n",
    "* Map, Filter and Reduce in Python\n"
   ]
  },
  {
   "cell_type": "markdown",
   "id": "76c73126",
   "metadata": {},
   "source": [
    "# Python Lambda Function"
   ]
  },
  {
   "cell_type": "code",
   "execution_count": 2,
   "id": "846e8752",
   "metadata": {},
   "outputs": [],
   "source": [
    "def addition(num1, num2):\n",
    "    return num1+num2"
   ]
  },
  {
   "cell_type": "code",
   "execution_count": 3,
   "id": "441317f8",
   "metadata": {},
   "outputs": [],
   "source": [
    "ans = addition(12, 10)"
   ]
  },
  {
   "cell_type": "code",
   "execution_count": 4,
   "id": "4c7b439c",
   "metadata": {},
   "outputs": [
    {
     "data": {
      "text/plain": [
       "22"
      ]
     },
     "execution_count": 4,
     "metadata": {},
     "output_type": "execute_result"
    }
   ],
   "source": [
    "ans"
   ]
  },
  {
   "cell_type": "code",
   "execution_count": null,
   "id": "09de1ff2",
   "metadata": {},
   "outputs": [],
   "source": []
  },
  {
   "cell_type": "code",
   "execution_count": 5,
   "id": "f9214de0",
   "metadata": {},
   "outputs": [
    {
     "name": "stdout",
     "output_type": "stream",
     "text": [
      "15\n"
     ]
    }
   ],
   "source": [
    "x = lambda a : a + 10\n",
    "print(x(5))"
   ]
  },
  {
   "cell_type": "code",
   "execution_count": 6,
   "id": "34badfd0",
   "metadata": {},
   "outputs": [
    {
     "data": {
      "text/plain": [
       "22"
      ]
     },
     "execution_count": 6,
     "metadata": {},
     "output_type": "execute_result"
    }
   ],
   "source": [
    "x(12)"
   ]
  },
  {
   "cell_type": "code",
   "execution_count": 7,
   "id": "562d3a36",
   "metadata": {},
   "outputs": [
    {
     "data": {
      "text/plain": [
       "110"
      ]
     },
     "execution_count": 7,
     "metadata": {},
     "output_type": "execute_result"
    }
   ],
   "source": [
    "x(100)"
   ]
  },
  {
   "cell_type": "code",
   "execution_count": 8,
   "id": "56e4cfde",
   "metadata": {},
   "outputs": [],
   "source": [
    "add = lambda num1, num2 : num1 + num2"
   ]
  },
  {
   "cell_type": "code",
   "execution_count": 9,
   "id": "fa5987d6",
   "metadata": {},
   "outputs": [
    {
     "data": {
      "text/plain": [
       "13"
      ]
     },
     "execution_count": 9,
     "metadata": {},
     "output_type": "execute_result"
    }
   ],
   "source": [
    "add(8,5)"
   ]
  },
  {
   "cell_type": "code",
   "execution_count": null,
   "id": "08e649b4",
   "metadata": {},
   "outputs": [],
   "source": []
  },
  {
   "cell_type": "code",
   "execution_count": 12,
   "id": "74b50135",
   "metadata": {},
   "outputs": [],
   "source": [
    "def multiplication(a,b):\n",
    "    return a*b"
   ]
  },
  {
   "cell_type": "code",
   "execution_count": 13,
   "id": "fefdc951",
   "metadata": {},
   "outputs": [
    {
     "data": {
      "text/plain": [
       "10"
      ]
     },
     "execution_count": 13,
     "metadata": {},
     "output_type": "execute_result"
    }
   ],
   "source": [
    "multiplication(2,5)"
   ]
  },
  {
   "cell_type": "code",
   "execution_count": null,
   "id": "eb033e55",
   "metadata": {},
   "outputs": [],
   "source": []
  },
  {
   "cell_type": "code",
   "execution_count": null,
   "id": "a069710b",
   "metadata": {},
   "outputs": [],
   "source": []
  },
  {
   "cell_type": "code",
   "execution_count": 14,
   "id": "df8d5ca2",
   "metadata": {},
   "outputs": [
    {
     "name": "stdout",
     "output_type": "stream",
     "text": [
      "30\n"
     ]
    }
   ],
   "source": [
    "x = lambda a, b : a * b\n",
    "print(x(5, 6))"
   ]
  },
  {
   "cell_type": "code",
   "execution_count": 15,
   "id": "bf8cba99",
   "metadata": {},
   "outputs": [
    {
     "data": {
      "text/plain": [
       "10"
      ]
     },
     "execution_count": 15,
     "metadata": {},
     "output_type": "execute_result"
    }
   ],
   "source": [
    "x(2,5)"
   ]
  },
  {
   "cell_type": "code",
   "execution_count": null,
   "id": "1eb2f2d5",
   "metadata": {},
   "outputs": [],
   "source": []
  },
  {
   "cell_type": "code",
   "execution_count": 17,
   "id": "fec22458",
   "metadata": {},
   "outputs": [],
   "source": [
    "def add(a,b,c):\n",
    "    return a+ b+c"
   ]
  },
  {
   "cell_type": "code",
   "execution_count": 18,
   "id": "634a8f74",
   "metadata": {},
   "outputs": [
    {
     "data": {
      "text/plain": [
       "13"
      ]
     },
     "execution_count": 18,
     "metadata": {},
     "output_type": "execute_result"
    }
   ],
   "source": [
    "add(5,6,2)"
   ]
  },
  {
   "cell_type": "code",
   "execution_count": null,
   "id": "c316cb4b",
   "metadata": {},
   "outputs": [],
   "source": []
  },
  {
   "cell_type": "code",
   "execution_count": 19,
   "id": "4ad51080",
   "metadata": {},
   "outputs": [
    {
     "name": "stdout",
     "output_type": "stream",
     "text": [
      "13\n"
     ]
    }
   ],
   "source": [
    "x = lambda a, b, c : a + b + c\n",
    "print(x(5, 6, 2))"
   ]
  },
  {
   "cell_type": "code",
   "execution_count": 15,
   "id": "7e811ef6",
   "metadata": {},
   "outputs": [
    {
     "name": "stdout",
     "output_type": "stream",
     "text": [
      "Using function defined with `def` keyword, cube: 125\n"
     ]
    }
   ],
   "source": [
    "def cube(y):\n",
    "    return y*y*y\n",
    "\n",
    "print(\"Using function defined with `def` keyword, cube:\", cube(5))"
   ]
  },
  {
   "cell_type": "code",
   "execution_count": 16,
   "id": "7d407e16",
   "metadata": {},
   "outputs": [
    {
     "name": "stdout",
     "output_type": "stream",
     "text": [
      "Using lambda function, cube: 125\n"
     ]
    }
   ],
   "source": [
    "lambda_cube = lambda y: y*y*y\n",
    "print(\"Using lambda function, cube:\", lambda_cube(5))"
   ]
  },
  {
   "cell_type": "code",
   "execution_count": null,
   "id": "bb080ed0",
   "metadata": {},
   "outputs": [],
   "source": []
  },
  {
   "cell_type": "code",
   "execution_count": null,
   "id": "1e4f3338",
   "metadata": {},
   "outputs": [],
   "source": []
  },
  {
   "cell_type": "code",
   "execution_count": null,
   "id": "218c7393",
   "metadata": {},
   "outputs": [],
   "source": []
  },
  {
   "cell_type": "code",
   "execution_count": null,
   "id": "0227b2e3",
   "metadata": {},
   "outputs": [],
   "source": []
  },
  {
   "cell_type": "code",
   "execution_count": null,
   "id": "e33e7588",
   "metadata": {},
   "outputs": [],
   "source": []
  },
  {
   "cell_type": "code",
   "execution_count": null,
   "id": "4fc7d2e3",
   "metadata": {},
   "outputs": [],
   "source": []
  },
  {
   "cell_type": "code",
   "execution_count": null,
   "id": "dedbd603",
   "metadata": {},
   "outputs": [],
   "source": []
  },
  {
   "cell_type": "code",
   "execution_count": null,
   "id": "56f3a99f",
   "metadata": {},
   "outputs": [],
   "source": []
  },
  {
   "cell_type": "code",
   "execution_count": null,
   "id": "add5d4e3",
   "metadata": {},
   "outputs": [],
   "source": []
  },
  {
   "cell_type": "code",
   "execution_count": null,
   "id": "7bcd63b7",
   "metadata": {},
   "outputs": [],
   "source": []
  },
  {
   "cell_type": "code",
   "execution_count": null,
   "id": "3cc35eb1",
   "metadata": {},
   "outputs": [],
   "source": []
  },
  {
   "cell_type": "code",
   "execution_count": null,
   "id": "5e4692f2",
   "metadata": {},
   "outputs": [],
   "source": []
  },
  {
   "cell_type": "code",
   "execution_count": null,
   "id": "08201bdf",
   "metadata": {},
   "outputs": [],
   "source": []
  },
  {
   "cell_type": "code",
   "execution_count": null,
   "id": "cf6868e0",
   "metadata": {},
   "outputs": [],
   "source": []
  },
  {
   "cell_type": "code",
   "execution_count": null,
   "id": "1f91cf89",
   "metadata": {},
   "outputs": [],
   "source": []
  },
  {
   "cell_type": "code",
   "execution_count": null,
   "id": "e7f871de",
   "metadata": {},
   "outputs": [],
   "source": []
  },
  {
   "cell_type": "code",
   "execution_count": null,
   "id": "ec6178ef",
   "metadata": {},
   "outputs": [],
   "source": []
  },
  {
   "cell_type": "code",
   "execution_count": null,
   "id": "3714d362",
   "metadata": {},
   "outputs": [],
   "source": []
  },
  {
   "cell_type": "code",
   "execution_count": null,
   "id": "47faf25c",
   "metadata": {},
   "outputs": [],
   "source": []
  },
  {
   "cell_type": "code",
   "execution_count": null,
   "id": "061ff9f8",
   "metadata": {},
   "outputs": [],
   "source": []
  },
  {
   "cell_type": "markdown",
   "id": "c1447795",
   "metadata": {},
   "source": [
    "# Python map() Function\n",
    "The map() function executes a specified function for each item in an iterable. The item is sent to the function as a parameter."
   ]
  },
  {
   "cell_type": "code",
   "execution_count": 1,
   "id": "c6cc751f",
   "metadata": {},
   "outputs": [],
   "source": [
    "def myfunc(n):\n",
    "    return len(n)\n",
    "\n",
    "x = map(myfunc, ('apple', 'banana', 'cherry'))"
   ]
  },
  {
   "cell_type": "code",
   "execution_count": 3,
   "id": "26b4bb1d",
   "metadata": {},
   "outputs": [
    {
     "name": "stdout",
     "output_type": "stream",
     "text": [
      "<map object at 0x1110e94b0>\n"
     ]
    }
   ],
   "source": [
    "print(x)"
   ]
  },
  {
   "cell_type": "code",
   "execution_count": 4,
   "id": "38febd9b",
   "metadata": {},
   "outputs": [
    {
     "data": {
      "text/plain": [
       "[5, 6, 6]"
      ]
     },
     "execution_count": 4,
     "metadata": {},
     "output_type": "execute_result"
    }
   ],
   "source": [
    "list(x)"
   ]
  },
  {
   "cell_type": "code",
   "execution_count": 6,
   "id": "02a93b56",
   "metadata": {},
   "outputs": [],
   "source": [
    "lst = [12,3,4,55,6,7,88,9]\n",
    "\n",
    "def multiply_with_5(val):\n",
    "    return val*5\n",
    "\n",
    "\n",
    "\n"
   ]
  },
  {
   "cell_type": "code",
   "execution_count": 7,
   "id": "bcf15750",
   "metadata": {},
   "outputs": [],
   "source": [
    "last_5 = []"
   ]
  },
  {
   "cell_type": "code",
   "execution_count": 8,
   "id": "0ff9e4f5",
   "metadata": {},
   "outputs": [],
   "source": [
    "for val in lst:\n",
    "    last_5.append(multiply_with_5(val))\n",
    "    "
   ]
  },
  {
   "cell_type": "code",
   "execution_count": 9,
   "id": "3f0d2839",
   "metadata": {},
   "outputs": [
    {
     "data": {
      "text/plain": [
       "[60, 15, 20, 275, 30, 35, 440, 45]"
      ]
     },
     "execution_count": 9,
     "metadata": {},
     "output_type": "execute_result"
    }
   ],
   "source": [
    "last_5"
   ]
  },
  {
   "cell_type": "code",
   "execution_count": 10,
   "id": "9be53e7b",
   "metadata": {},
   "outputs": [],
   "source": [
    "x = map(multiply_with_5,lst)"
   ]
  },
  {
   "cell_type": "code",
   "execution_count": 11,
   "id": "01daf8dd",
   "metadata": {},
   "outputs": [
    {
     "name": "stdout",
     "output_type": "stream",
     "text": [
      "<map object at 0x1111e9240>\n"
     ]
    }
   ],
   "source": [
    "print(x)"
   ]
  },
  {
   "cell_type": "code",
   "execution_count": 12,
   "id": "7b8a0d7f",
   "metadata": {},
   "outputs": [
    {
     "data": {
      "text/plain": [
       "[60, 15, 20, 275, 30, 35, 440, 45]"
      ]
     },
     "execution_count": 12,
     "metadata": {},
     "output_type": "execute_result"
    }
   ],
   "source": [
    "list(x)"
   ]
  },
  {
   "cell_type": "code",
   "execution_count": 18,
   "id": "6b6d775b",
   "metadata": {},
   "outputs": [],
   "source": [
    "s = \"Gateway \""
   ]
  },
  {
   "cell_type": "code",
   "execution_count": 19,
   "id": "58e7c39a",
   "metadata": {},
   "outputs": [],
   "source": [
    "s1 = \"of AI\""
   ]
  },
  {
   "cell_type": "code",
   "execution_count": 20,
   "id": "edcdbf84",
   "metadata": {},
   "outputs": [
    {
     "data": {
      "text/plain": [
       "'Gateway of AI'"
      ]
     },
     "execution_count": 20,
     "metadata": {},
     "output_type": "execute_result"
    }
   ],
   "source": [
    "s+s1"
   ]
  },
  {
   "cell_type": "code",
   "execution_count": 14,
   "id": "3545a79b",
   "metadata": {},
   "outputs": [
    {
     "data": {
      "text/plain": [
       "str"
      ]
     },
     "execution_count": 14,
     "metadata": {},
     "output_type": "execute_result"
    }
   ],
   "source": [
    "type(s)"
   ]
  },
  {
   "cell_type": "code",
   "execution_count": null,
   "id": "d9bf451d",
   "metadata": {},
   "outputs": [],
   "source": []
  },
  {
   "cell_type": "code",
   "execution_count": 21,
   "id": "5248a1f7",
   "metadata": {},
   "outputs": [],
   "source": [
    "def myfunc(a, b):\n",
    "    return a + b\n",
    "\n",
    "x = map(myfunc, ('apple', 'banana', 'cherry'), ('orange', 'lemon', 'pineapple'))"
   ]
  },
  {
   "cell_type": "code",
   "execution_count": 22,
   "id": "2b206244",
   "metadata": {},
   "outputs": [
    {
     "data": {
      "text/plain": [
       "['appleorange', 'bananalemon', 'cherrypineapple']"
      ]
     },
     "execution_count": 22,
     "metadata": {},
     "output_type": "execute_result"
    }
   ],
   "source": [
    "list(x)"
   ]
  },
  {
   "cell_type": "code",
   "execution_count": 25,
   "id": "f1e7e5f9",
   "metadata": {},
   "outputs": [],
   "source": [
    "def addition(n):\n",
    "    return n + n"
   ]
  },
  {
   "cell_type": "code",
   "execution_count": 26,
   "id": "b06a3bd6",
   "metadata": {},
   "outputs": [],
   "source": [
    "# We double all numbers using map()\n",
    "numbers = (1, 2, 3, 4)\n",
    "result = map(addition, numbers)"
   ]
  },
  {
   "cell_type": "code",
   "execution_count": 27,
   "id": "fff3d25d",
   "metadata": {},
   "outputs": [
    {
     "name": "stdout",
     "output_type": "stream",
     "text": [
      "[2, 4, 6, 8]\n"
     ]
    }
   ],
   "source": [
    "print(list(result))"
   ]
  },
  {
   "cell_type": "code",
   "execution_count": null,
   "id": "a6cc46a8",
   "metadata": {},
   "outputs": [],
   "source": []
  },
  {
   "cell_type": "code",
   "execution_count": null,
   "id": "770abef0",
   "metadata": {},
   "outputs": [],
   "source": []
  },
  {
   "cell_type": "code",
   "execution_count": 28,
   "id": "4038289b",
   "metadata": {},
   "outputs": [],
   "source": [
    "num = [2,4,6,8]\n",
    "double_num = map(lambda x: x+x, num)"
   ]
  },
  {
   "cell_type": "code",
   "execution_count": 29,
   "id": "88f086f2",
   "metadata": {},
   "outputs": [
    {
     "data": {
      "text/plain": [
       "<map at 0x1111eda50>"
      ]
     },
     "execution_count": 29,
     "metadata": {},
     "output_type": "execute_result"
    }
   ],
   "source": [
    "double_num"
   ]
  },
  {
   "cell_type": "code",
   "execution_count": 30,
   "id": "620a1cf2",
   "metadata": {},
   "outputs": [
    {
     "data": {
      "text/plain": [
       "[4, 8, 12, 16]"
      ]
     },
     "execution_count": 30,
     "metadata": {},
     "output_type": "execute_result"
    }
   ],
   "source": [
    "list(double_num)"
   ]
  },
  {
   "cell_type": "code",
   "execution_count": 31,
   "id": "ce788d6f",
   "metadata": {},
   "outputs": [
    {
     "data": {
      "text/plain": [
       "['GATEWAY OF AI', 'GATEWAY OF AI', 'GATEWAYOFAI']"
      ]
     },
     "execution_count": 31,
     "metadata": {},
     "output_type": "execute_result"
    }
   ],
   "source": [
    "name = [\"Gateway of AI\", 'gateway of ai', 'gatewayofai']\n",
    "\n",
    "\n",
    "Cap_name = map(lambda x: str.upper(x),name)\n",
    "list(Cap_name)\n"
   ]
  },
  {
   "cell_type": "code",
   "execution_count": null,
   "id": "86921bbf",
   "metadata": {},
   "outputs": [],
   "source": []
  },
  {
   "cell_type": "code",
   "execution_count": null,
   "id": "3091ba3c",
   "metadata": {},
   "outputs": [],
   "source": []
  },
  {
   "cell_type": "code",
   "execution_count": null,
   "id": "cf4b0102",
   "metadata": {},
   "outputs": [],
   "source": []
  },
  {
   "cell_type": "code",
   "execution_count": null,
   "id": "6da9b85d",
   "metadata": {},
   "outputs": [],
   "source": []
  },
  {
   "cell_type": "code",
   "execution_count": null,
   "id": "3a0d6366",
   "metadata": {},
   "outputs": [],
   "source": []
  },
  {
   "cell_type": "code",
   "execution_count": null,
   "id": "435af1b4",
   "metadata": {},
   "outputs": [],
   "source": []
  },
  {
   "cell_type": "markdown",
   "id": "0f64955e",
   "metadata": {},
   "source": [
    "# Python filter() Function"
   ]
  },
  {
   "cell_type": "code",
   "execution_count": 32,
   "id": "7d93754f",
   "metadata": {},
   "outputs": [],
   "source": [
    "ages = [5, 12, 17, 18, 24, 32]\n",
    "\n",
    "def myFunc(x):\n",
    "    \n",
    "    if x < 18:\n",
    "        return False\n",
    "    else:\n",
    "        return True\n"
   ]
  },
  {
   "cell_type": "code",
   "execution_count": 33,
   "id": "3707d68f",
   "metadata": {},
   "outputs": [],
   "source": [
    "adults = filter(myFunc, ages)"
   ]
  },
  {
   "cell_type": "code",
   "execution_count": 34,
   "id": "a20f2ae3",
   "metadata": {},
   "outputs": [
    {
     "data": {
      "text/plain": [
       "[18, 24, 32]"
      ]
     },
     "execution_count": 34,
     "metadata": {},
     "output_type": "execute_result"
    }
   ],
   "source": [
    "list(adults)"
   ]
  },
  {
   "cell_type": "code",
   "execution_count": 35,
   "id": "b276af2b",
   "metadata": {},
   "outputs": [
    {
     "data": {
      "text/plain": [
       "[43, 63, 38, 73, 66]"
      ]
     },
     "execution_count": 35,
     "metadata": {},
     "output_type": "execute_result"
    }
   ],
   "source": [
    "f_lst = [23,43,24,63,38,73,66]\n",
    "\n",
    "avg_lst = filter(lambda x: x >= 35, f_lst)\n",
    "\n",
    "list(avg_lst)"
   ]
  },
  {
   "cell_type": "code",
   "execution_count": 36,
   "id": "62a28ffb",
   "metadata": {},
   "outputs": [
    {
     "data": {
      "text/plain": [
       "['India', 'china', 'Nepal']"
      ]
     },
     "execution_count": 36,
     "metadata": {},
     "output_type": "execute_result"
    }
   ],
   "source": [
    "countries = ['India','china', 'Nepal', 'USA', 'UK']\n",
    "\n",
    "c_grater_3 = filter(lambda x: len(x) > 3, countries)\n",
    "list(c_grater_3)"
   ]
  },
  {
   "cell_type": "code",
   "execution_count": null,
   "id": "c608463a",
   "metadata": {},
   "outputs": [],
   "source": []
  },
  {
   "cell_type": "code",
   "execution_count": null,
   "id": "1b0affbe",
   "metadata": {},
   "outputs": [],
   "source": []
  },
  {
   "cell_type": "code",
   "execution_count": null,
   "id": "541548ca",
   "metadata": {},
   "outputs": [],
   "source": []
  },
  {
   "cell_type": "markdown",
   "id": "08443e0c",
   "metadata": {},
   "source": [
    "# Python reduce() Function"
   ]
  },
  {
   "cell_type": "code",
   "execution_count": 23,
   "id": "89fd02b5",
   "metadata": {},
   "outputs": [
    {
     "name": "stdout",
     "output_type": "stream",
     "text": [
      "17\n"
     ]
    }
   ],
   "source": [
    "# python code to demonstrate working of reduce() \n",
    "\n",
    "# importing functools for reduce() \n",
    "import functools \n",
    "\n",
    "# initializing list \n",
    "lis = [1, 3, 5, 6, 2] \n",
    "\n",
    "\n",
    "print(functools.reduce(lambda a, b: a+b, lis)) "
   ]
  },
  {
   "cell_type": "code",
   "execution_count": null,
   "id": "34def6b9",
   "metadata": {},
   "outputs": [],
   "source": []
  }
 ],
 "metadata": {
  "kernelspec": {
   "display_name": "Python 3 (ipykernel)",
   "language": "python",
   "name": "python3"
  },
  "language_info": {
   "codemirror_mode": {
    "name": "ipython",
    "version": 3
   },
   "file_extension": ".py",
   "mimetype": "text/x-python",
   "name": "python",
   "nbconvert_exporter": "python",
   "pygments_lexer": "ipython3",
   "version": "3.11.5"
  }
 },
 "nbformat": 4,
 "nbformat_minor": 5
}
