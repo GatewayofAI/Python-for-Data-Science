{
 "cells": [
  {
   "cell_type": "markdown",
   "id": "051a045f",
   "metadata": {},
   "source": [
    "# Topics To be covered\n",
    "* Counters in Python\n",
    "* Python enumerate() Function\n",
    "* Python zip() Function\n",
    "* Python String format() Method\n",
    "* f-strings in Python"
   ]
  },
  {
   "cell_type": "markdown",
   "id": "dd2dfb0c",
   "metadata": {},
   "source": [
    "# Counters in Python"
   ]
  },
  {
   "cell_type": "code",
   "execution_count": 4,
   "id": "02e40da4",
   "metadata": {},
   "outputs": [
    {
     "name": "stdout",
     "output_type": "stream",
     "text": [
      "Counter({5: 2, 6: 2, 1: 1, 3: 1, 86: 1, 44: 1})\n"
     ]
    }
   ],
   "source": [
    "from collections import Counter\n",
    "lst = [1,3,5,6,86,44,5,6]\n",
    "num = Counter(lst)\n",
    "print(num)"
   ]
  },
  {
   "cell_type": "code",
   "execution_count": 5,
   "id": "757b8c1b",
   "metadata": {},
   "outputs": [],
   "source": [
    "\n",
    "x1 = Counter(\"Gateway of AI\")\n"
   ]
  },
  {
   "cell_type": "code",
   "execution_count": 6,
   "id": "7a9049c6",
   "metadata": {},
   "outputs": [
    {
     "name": "stdout",
     "output_type": "stream",
     "text": [
      "Counter({'a': 2, ' ': 2, 'G': 1, 't': 1, 'e': 1, 'w': 1, 'y': 1, 'o': 1, 'f': 1, 'A': 1, 'I': 1})\n"
     ]
    }
   ],
   "source": [
    "print(x1)"
   ]
  },
  {
   "cell_type": "code",
   "execution_count": 35,
   "id": "15c9ddd3",
   "metadata": {},
   "outputs": [
    {
     "data": {
      "text/plain": [
       "collections.Counter"
      ]
     },
     "execution_count": 35,
     "metadata": {},
     "output_type": "execute_result"
    }
   ],
   "source": [
    "type(x1)"
   ]
  },
  {
   "cell_type": "code",
   "execution_count": 8,
   "id": "58c66396",
   "metadata": {},
   "outputs": [],
   "source": [
    "a = [12, 3, 4, 3, 5, 11, 12, 6, 7]\n",
    "\n",
    "x2 = Counter(a)"
   ]
  },
  {
   "cell_type": "code",
   "execution_count": 9,
   "id": "fd37221d",
   "metadata": {},
   "outputs": [
    {
     "data": {
      "text/plain": [
       "Counter({12: 2, 3: 2, 4: 1, 5: 1, 11: 1, 6: 1, 7: 1})"
      ]
     },
     "execution_count": 9,
     "metadata": {},
     "output_type": "execute_result"
    }
   ],
   "source": [
    "x2"
   ]
  },
  {
   "cell_type": "code",
   "execution_count": 10,
   "id": "61fc0917",
   "metadata": {},
   "outputs": [
    {
     "name": "stdout",
     "output_type": "stream",
     "text": [
      "Counter({12: 2, 3: 2, 4: 1, 5: 1, 11: 1, 6: 1, 7: 1})\n"
     ]
    }
   ],
   "source": [
    "print(x2)"
   ]
  },
  {
   "cell_type": "code",
   "execution_count": 11,
   "id": "65039b1b",
   "metadata": {},
   "outputs": [
    {
     "data": {
      "text/plain": [
       "dict_keys([12, 3, 4, 5, 11, 6, 7])"
      ]
     },
     "execution_count": 11,
     "metadata": {},
     "output_type": "execute_result"
    }
   ],
   "source": [
    "x2.keys()"
   ]
  },
  {
   "cell_type": "code",
   "execution_count": 12,
   "id": "846c6d53",
   "metadata": {},
   "outputs": [
    {
     "data": {
      "text/plain": [
       "dict_values([2, 2, 1, 1, 1, 1, 1])"
      ]
     },
     "execution_count": 12,
     "metadata": {},
     "output_type": "execute_result"
    }
   ],
   "source": [
    "x2.values()"
   ]
  },
  {
   "cell_type": "code",
   "execution_count": 13,
   "id": "83111fc5",
   "metadata": {},
   "outputs": [
    {
     "data": {
      "text/plain": [
       "Counter({12: 2, 3: 2, 4: 1, 5: 1, 11: 1, 6: 1, 7: 1})"
      ]
     },
     "execution_count": 13,
     "metadata": {},
     "output_type": "execute_result"
    }
   ],
   "source": [
    "x2"
   ]
  },
  {
   "cell_type": "code",
   "execution_count": 14,
   "id": "ad75cdf2",
   "metadata": {},
   "outputs": [
    {
     "name": "stdout",
     "output_type": "stream",
     "text": [
      "12\n",
      "3\n",
      "4\n",
      "5\n",
      "11\n",
      "6\n",
      "7\n"
     ]
    }
   ],
   "source": [
    "for i in x2.keys():\n",
    "    print(i)"
   ]
  },
  {
   "cell_type": "code",
   "execution_count": 15,
   "id": "498748b3",
   "metadata": {},
   "outputs": [
    {
     "name": "stdout",
     "output_type": "stream",
     "text": [
      "2\n",
      "2\n",
      "1\n",
      "1\n",
      "1\n",
      "1\n",
      "1\n"
     ]
    }
   ],
   "source": [
    "#We can also use .keys() and .values() methods to access Counter class object\n",
    "for i in x2.values():\n",
    "    print(i) ## x[i], here \"i\" is value and we should use x(key) to find value not x(value) to find key."
   ]
  },
  {
   "cell_type": "code",
   "execution_count": 19,
   "id": "e48387e3",
   "metadata": {},
   "outputs": [],
   "source": [
    "b = Counter({'geeks' : 4, 'for' : 1, 'gfg' : 2, 'python' : 3})\n"
   ]
  },
  {
   "cell_type": "code",
   "execution_count": 20,
   "id": "9b199094",
   "metadata": {},
   "outputs": [
    {
     "data": {
      "text/plain": [
       "Counter({'geeks': 4, 'python': 3, 'gfg': 2, 'for': 1})"
      ]
     },
     "execution_count": 20,
     "metadata": {},
     "output_type": "execute_result"
    }
   ],
   "source": [
    "b"
   ]
  },
  {
   "cell_type": "code",
   "execution_count": 21,
   "id": "c89e3750",
   "metadata": {},
   "outputs": [
    {
     "name": "stdout",
     "output_type": "stream",
     "text": [
      "geeks geeks geeks geeks for gfg gfg python python python "
     ]
    }
   ],
   "source": [
    "for i in b.elements():\n",
    "    print ( i, end = \" \")"
   ]
  },
  {
   "cell_type": "code",
   "execution_count": 26,
   "id": "8846a65f",
   "metadata": {},
   "outputs": [
    {
     "data": {
      "text/plain": [
       "Counter({'geeks': 4, 'for': 1, 'gfg': 2, 'python': 3})"
      ]
     },
     "execution_count": 26,
     "metadata": {},
     "output_type": "execute_result"
    }
   ],
   "source": [
    "b"
   ]
  },
  {
   "cell_type": "code",
   "execution_count": 29,
   "id": "9a56178f",
   "metadata": {},
   "outputs": [
    {
     "data": {
      "text/plain": [
       "dict_keys(['geeks', 'for', 'gfg', 'python'])"
      ]
     },
     "execution_count": 29,
     "metadata": {},
     "output_type": "execute_result"
    }
   ],
   "source": [
    "b.keys()"
   ]
  },
  {
   "cell_type": "code",
   "execution_count": 30,
   "id": "9b32e74f",
   "metadata": {},
   "outputs": [
    {
     "data": {
      "text/plain": [
       "dict_values([4, 1, 2, 3])"
      ]
     },
     "execution_count": 30,
     "metadata": {},
     "output_type": "execute_result"
    }
   ],
   "source": [
    "b.values()"
   ]
  },
  {
   "cell_type": "code",
   "execution_count": null,
   "id": "16acc141",
   "metadata": {},
   "outputs": [],
   "source": []
  },
  {
   "cell_type": "code",
   "execution_count": null,
   "id": "7b11827a",
   "metadata": {},
   "outputs": [],
   "source": []
  },
  {
   "cell_type": "code",
   "execution_count": null,
   "id": "6850af50",
   "metadata": {},
   "outputs": [],
   "source": []
  },
  {
   "cell_type": "code",
   "execution_count": null,
   "id": "5124b97b",
   "metadata": {},
   "outputs": [],
   "source": []
  },
  {
   "cell_type": "code",
   "execution_count": null,
   "id": "1f1d8530",
   "metadata": {},
   "outputs": [],
   "source": []
  },
  {
   "cell_type": "markdown",
   "id": "3b5ce6b0",
   "metadata": {},
   "source": [
    "# Python enumerate() Function\n",
    "The enumerate() function takes a collection (e.g. a tuple) and returns it as an enumerate object.\n",
    "\n",
    "The enumerate() function adds a counter as the key of the enumerate object."
   ]
  },
  {
   "cell_type": "code",
   "execution_count": 28,
   "id": "4ce24a6e",
   "metadata": {},
   "outputs": [],
   "source": [
    "x = ('apple', 'banana', 'cherry')\n",
    "y = enumerate(x)"
   ]
  },
  {
   "cell_type": "code",
   "execution_count": 29,
   "id": "ead262c9",
   "metadata": {},
   "outputs": [
    {
     "data": {
      "text/plain": [
       "<enumerate at 0x10be7b790>"
      ]
     },
     "execution_count": 29,
     "metadata": {},
     "output_type": "execute_result"
    }
   ],
   "source": [
    "y"
   ]
  },
  {
   "cell_type": "code",
   "execution_count": 30,
   "id": "46455bb0",
   "metadata": {},
   "outputs": [
    {
     "data": {
      "text/plain": [
       "[(0, 'apple'), (1, 'banana'), (2, 'cherry')]"
      ]
     },
     "execution_count": 30,
     "metadata": {},
     "output_type": "execute_result"
    }
   ],
   "source": [
    "list(y)"
   ]
  },
  {
   "cell_type": "code",
   "execution_count": 31,
   "id": "54881dd9",
   "metadata": {},
   "outputs": [
    {
     "name": "stdout",
     "output_type": "stream",
     "text": [
      "[(0, 'eat'), (1, 'sleep'), (2, 'repeat')]\n"
     ]
    }
   ],
   "source": [
    "l1 = [\"eat\", \"sleep\", \"repeat\"]\n",
    "\n",
    "obj1 = enumerate(l1)\n",
    "\n",
    "\n",
    "print (list(enumerate(l1)))"
   ]
  },
  {
   "cell_type": "code",
   "execution_count": 35,
   "id": "b3b2d51f",
   "metadata": {},
   "outputs": [
    {
     "name": "stdout",
     "output_type": "stream",
     "text": [
      "[(2, 'g'), (3, 'e'), (4, 'e'), (5, 'k')]\n"
     ]
    }
   ],
   "source": [
    "s1 = \"geek\"\n",
    "\n",
    "# changing start index to 2 from 0\n",
    "print (list(enumerate(s1,2)))\n"
   ]
  },
  {
   "cell_type": "code",
   "execution_count": null,
   "id": "071eb472",
   "metadata": {},
   "outputs": [],
   "source": []
  },
  {
   "cell_type": "code",
   "execution_count": null,
   "id": "4f8c1a03",
   "metadata": {},
   "outputs": [],
   "source": []
  },
  {
   "cell_type": "code",
   "execution_count": null,
   "id": "801c15d2",
   "metadata": {},
   "outputs": [],
   "source": []
  },
  {
   "cell_type": "code",
   "execution_count": null,
   "id": "afbb4c4d",
   "metadata": {},
   "outputs": [],
   "source": []
  },
  {
   "cell_type": "code",
   "execution_count": null,
   "id": "96da3b9e",
   "metadata": {},
   "outputs": [],
   "source": []
  },
  {
   "cell_type": "markdown",
   "id": "daa693b4",
   "metadata": {},
   "source": [
    "# Python zip() Function\n",
    "Python zip() method takes iterable containers and returns a single iterator object, having mapped values from all the containers. "
   ]
  },
  {
   "cell_type": "code",
   "execution_count": 37,
   "id": "d8559b0d",
   "metadata": {},
   "outputs": [
    {
     "name": "stdout",
     "output_type": "stream",
     "text": [
      "[('Manjeet', 4), ('Nikhil', 1), ('Shambhavi', 3)]\n"
     ]
    }
   ],
   "source": [
    "name = [ \"Manjeet\", \"Nikhil\", \"Shambhavi\", \"Astha\" ]\n",
    "roll_no = [ 4, 1, 3]\n",
    "\n",
    "# using zip() to map values\n",
    "mapped = zip(name, roll_no)\n",
    "\n",
    "print(list(mapped))\n"
   ]
  },
  {
   "cell_type": "code",
   "execution_count": null,
   "id": "4b93ef50",
   "metadata": {},
   "outputs": [],
   "source": []
  },
  {
   "cell_type": "markdown",
   "id": "478fcd8e",
   "metadata": {},
   "source": [
    "# String format()"
   ]
  },
  {
   "cell_type": "code",
   "execution_count": 38,
   "id": "e3a66051",
   "metadata": {},
   "outputs": [
    {
     "name": "stdout",
     "output_type": "stream",
     "text": [
      "My name is Nischal, I'm 24\n"
     ]
    }
   ],
   "source": [
    "print(\"My name is Nischal, I'm 24\")"
   ]
  },
  {
   "cell_type": "code",
   "execution_count": 39,
   "id": "67fe3b4c",
   "metadata": {},
   "outputs": [
    {
     "name": "stdout",
     "output_type": "stream",
     "text": [
      "Enter your name Nischal\n"
     ]
    }
   ],
   "source": [
    "name = input(\"Enter your name \")"
   ]
  },
  {
   "cell_type": "code",
   "execution_count": 40,
   "id": "10ef92f0",
   "metadata": {},
   "outputs": [
    {
     "name": "stdout",
     "output_type": "stream",
     "text": [
      "Enter your age24\n"
     ]
    }
   ],
   "source": [
    "age = input(\"Enter your age\")"
   ]
  },
  {
   "cell_type": "code",
   "execution_count": 42,
   "id": "5638f712",
   "metadata": {},
   "outputs": [
    {
     "name": "stdout",
     "output_type": "stream",
     "text": [
      "My name is Nischal, I'm 24\n"
     ]
    }
   ],
   "source": [
    "txt1 = \"My name is {fname}, I'm {age}\".format(fname = name, age = age)\n",
    "print(txt1)"
   ]
  },
  {
   "cell_type": "code",
   "execution_count": 43,
   "id": "ed3a63c7",
   "metadata": {},
   "outputs": [],
   "source": [
    "txt2 = \"My name is {0}, I'm {1}\".format(\"John\",36)"
   ]
  },
  {
   "cell_type": "code",
   "execution_count": 44,
   "id": "317c5327",
   "metadata": {},
   "outputs": [
    {
     "name": "stdout",
     "output_type": "stream",
     "text": [
      "My name is John, I'm 36\n"
     ]
    }
   ],
   "source": [
    "print(txt2)"
   ]
  },
  {
   "cell_type": "code",
   "execution_count": 45,
   "id": "4d46636d",
   "metadata": {},
   "outputs": [],
   "source": [
    "txt3 = \"My name is {}, I'm {}\".format(\"John\",36)"
   ]
  },
  {
   "cell_type": "code",
   "execution_count": 46,
   "id": "fb7409b6",
   "metadata": {},
   "outputs": [
    {
     "name": "stdout",
     "output_type": "stream",
     "text": [
      "My name is John, I'm 36\n"
     ]
    }
   ],
   "source": [
    "print(txt3)"
   ]
  },
  {
   "cell_type": "markdown",
   "id": "ff555d74",
   "metadata": {},
   "source": [
    "# f-string in Python"
   ]
  },
  {
   "cell_type": "code",
   "execution_count": null,
   "id": "2329b329",
   "metadata": {},
   "outputs": [],
   "source": [
    "# Python3 program introducing f-string\n",
    "name = 'Tushar'\n",
    "age = 23\n",
    "print(f\"Hello, My name is {name} and I'm {age} years old.\")\n"
   ]
  },
  {
   "cell_type": "code",
   "execution_count": 47,
   "id": "83dbcb4c",
   "metadata": {},
   "outputs": [
    {
     "name": "stdout",
     "output_type": "stream",
     "text": [
      "My name is Nischal and my age 24\n"
     ]
    }
   ],
   "source": [
    "print(f\"My name is {name} and my age {age}\")"
   ]
  },
  {
   "cell_type": "markdown",
   "id": "3e4d1996",
   "metadata": {},
   "source": [
    "# String format()     | VS |        f-strings in Python"
   ]
  },
  {
   "cell_type": "code",
   "execution_count": null,
   "id": "8590205b",
   "metadata": {},
   "outputs": [],
   "source": []
  },
  {
   "cell_type": "code",
   "execution_count": 48,
   "id": "65336596",
   "metadata": {},
   "outputs": [
    {
     "name": "stdout",
     "output_type": "stream",
     "text": [
      "My name is John, I'm 36\n"
     ]
    }
   ],
   "source": [
    "\n",
    "# String formating\n",
    "format_txt1 = \"My name is {fname}, I'm {age}\".format(fname = 'John', age = 36)\n",
    "print(format_txt1)"
   ]
  },
  {
   "cell_type": "code",
   "execution_count": 49,
   "id": "811f78a9",
   "metadata": {},
   "outputs": [
    {
     "name": "stdout",
     "output_type": "stream",
     "text": [
      "My name is John, I'm 36\n"
     ]
    }
   ],
   "source": [
    "# f-string\n",
    "fname = \"John\"\n",
    "age = 36\n",
    "\n",
    "f_txt1 = f\"My name is {fname}, I'm {age}\"\n",
    "print(f_txt1)"
   ]
  },
  {
   "cell_type": "code",
   "execution_count": null,
   "id": "57aa9722",
   "metadata": {},
   "outputs": [],
   "source": []
  },
  {
   "cell_type": "code",
   "execution_count": null,
   "id": "1cda0175",
   "metadata": {},
   "outputs": [],
   "source": []
  }
 ],
 "metadata": {
  "kernelspec": {
   "display_name": "Python 3 (ipykernel)",
   "language": "python",
   "name": "python3"
  },
  "language_info": {
   "codemirror_mode": {
    "name": "ipython",
    "version": 3
   },
   "file_extension": ".py",
   "mimetype": "text/x-python",
   "name": "python",
   "nbconvert_exporter": "python",
   "pygments_lexer": "ipython3",
   "version": "3.11.5"
  }
 },
 "nbformat": 4,
 "nbformat_minor": 5
}
