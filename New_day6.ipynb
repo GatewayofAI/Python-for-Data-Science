{
 "cells": [
  {
   "cell_type": "code",
   "execution_count": null,
   "id": "55d8573b",
   "metadata": {},
   "outputs": [],
   "source": [
    "numbers = [1, 2, 3, 4, 5, 6, 7, 8, 9, 10]"
   ]
  },
  {
   "cell_type": "code",
   "execution_count": 5,
   "id": "3696dc46",
   "metadata": {},
   "outputs": [
    {
     "name": "stdout",
     "output_type": "stream",
     "text": [
      "1\n",
      "2\n",
      "3\n",
      "4\n",
      "5\n",
      "6\n",
      "7\n",
      "8\n",
      "9\n",
      "10\n"
     ]
    }
   ],
   "source": [
    "for ele in numbers:\n",
    "    print(ele)"
   ]
  },
  {
   "cell_type": "code",
   "execution_count": 8,
   "id": "fa89bdc3",
   "metadata": {},
   "outputs": [
    {
     "name": "stdout",
     "output_type": "stream",
     "text": [
      "1\n",
      "2\n",
      "3\n",
      "4\n",
      "5\n",
      "6\n",
      "7\n",
      "8\n",
      "9\n",
      "10\n"
     ]
    }
   ],
   "source": [
    "lst = [print(val) for val in numbers]"
   ]
  },
  {
   "cell_type": "code",
   "execution_count": 9,
   "id": "8750c3b1",
   "metadata": {},
   "outputs": [
    {
     "data": {
      "text/plain": [
       "[None, None, None, None, None, None, None, None, None, None]"
      ]
     },
     "execution_count": 9,
     "metadata": {},
     "output_type": "execute_result"
    }
   ],
   "source": [
    "lst\n"
   ]
  },
  {
   "cell_type": "code",
   "execution_count": 10,
   "id": "3b607ff2",
   "metadata": {},
   "outputs": [
    {
     "data": {
      "text/plain": [
       "[1, 2, 3, 4, 5, 6, 7, 8, 9, 10]"
      ]
     },
     "execution_count": 10,
     "metadata": {},
     "output_type": "execute_result"
    }
   ],
   "source": [
    "numbers"
   ]
  },
  {
   "cell_type": "code",
   "execution_count": 11,
   "id": "d432f380",
   "metadata": {},
   "outputs": [],
   "source": [
    "new_lst = []\n",
    "v = 5\n",
    "for val in numbers:\n",
    "    new_lst.append(val + v)"
   ]
  },
  {
   "cell_type": "code",
   "execution_count": 12,
   "id": "779f35e9",
   "metadata": {},
   "outputs": [
    {
     "data": {
      "text/plain": [
       "[6, 7, 8, 9, 10, 11, 12, 13, 14, 15]"
      ]
     },
     "execution_count": 12,
     "metadata": {},
     "output_type": "execute_result"
    }
   ],
   "source": [
    "new_lst"
   ]
  },
  {
   "cell_type": "code",
   "execution_count": 13,
   "id": "37f4d37d",
   "metadata": {},
   "outputs": [],
   "source": [
    "new_lst_c = [val+v for val in numbers]"
   ]
  },
  {
   "cell_type": "code",
   "execution_count": 14,
   "id": "c14ce580",
   "metadata": {},
   "outputs": [
    {
     "data": {
      "text/plain": [
       "[6, 7, 8, 9, 10, 11, 12, 13, 14, 15]"
      ]
     },
     "execution_count": 14,
     "metadata": {},
     "output_type": "execute_result"
    }
   ],
   "source": [
    "new_lst_c"
   ]
  },
  {
   "cell_type": "code",
   "execution_count": 15,
   "id": "27e445b7",
   "metadata": {},
   "outputs": [
    {
     "name": "stdout",
     "output_type": "stream",
     "text": [
      "odd numbers: 1\n",
      "even numbers: 2\n",
      "odd numbers: 3\n",
      "even numbers: 4\n",
      "odd numbers: 5\n",
      "even numbers: 6\n",
      "odd numbers: 7\n",
      "even numbers: 8\n",
      "odd numbers: 9\n",
      "even numbers: 10\n"
     ]
    }
   ],
   "source": [
    "# Find odd and even number\n",
    "\n",
    "for val in numbers:\n",
    "    if val % 2 == 0:\n",
    "        print(\"even numbers:\", val)\n",
    "    else:\n",
    "        print(\"odd numbers:\", val)\n",
    "        \n"
   ]
  },
  {
   "cell_type": "code",
   "execution_count": 16,
   "id": "9d709d5a",
   "metadata": {},
   "outputs": [
    {
     "name": "stdout",
     "output_type": "stream",
     "text": [
      "odd number 1\n",
      "even number 2\n",
      "odd number 3\n",
      "even number 4\n",
      "odd number 5\n",
      "even number 6\n",
      "odd number 7\n",
      "even number 8\n",
      "odd number 9\n",
      "even number 10\n"
     ]
    }
   ],
   "source": [
    "print_odd_even = [print(\"even number\",val) if val % 2 == 0 else print(\"odd number\",val) for val in numbers ]"
   ]
  },
  {
   "cell_type": "code",
   "execution_count": null,
   "id": "62dc930d",
   "metadata": {},
   "outputs": [],
   "source": []
  },
  {
   "cell_type": "code",
   "execution_count": null,
   "id": "55a2f2b1",
   "metadata": {},
   "outputs": [],
   "source": []
  },
  {
   "cell_type": "code",
   "execution_count": null,
   "id": "af474948",
   "metadata": {},
   "outputs": [],
   "source": []
  },
  {
   "cell_type": "code",
   "execution_count": 1,
   "id": "1c8e2185",
   "metadata": {},
   "outputs": [
    {
     "name": "stdout",
     "output_type": "stream",
     "text": [
      "[1, 8, 9, 64, 25, 216, 49, 512, 81, 1000]\n"
     ]
    }
   ],
   "source": [
    "def process_numbers(numbers):\n",
    "    result = []\n",
    "    for num in numbers:\n",
    "        if num % 2 == 0:\n",
    "            result.append(num**3)\n",
    "        else:\n",
    "            result.append(num**2)\n",
    "    return result\n",
    "\n",
    "# Example usage\n",
    "numbers = [1, 2, 3, 4, 5, 6, 7, 8, 9, 10]\n",
    "result_number = process_numbers(numbers)\n",
    "print(result_number)\n"
   ]
  },
  {
   "cell_type": "code",
   "execution_count": null,
   "id": "a7d7774f",
   "metadata": {},
   "outputs": [],
   "source": []
  },
  {
   "cell_type": "code",
   "execution_count": 17,
   "id": "3ef33622",
   "metadata": {},
   "outputs": [],
   "source": [
    "lst_com_result = [val**3 if val % 2 == 0 else val**2 for val in numbers]"
   ]
  },
  {
   "cell_type": "code",
   "execution_count": 18,
   "id": "416ef1c8",
   "metadata": {},
   "outputs": [
    {
     "data": {
      "text/plain": [
       "[1, 8, 9, 64, 25, 216, 49, 512, 81, 1000]"
      ]
     },
     "execution_count": 18,
     "metadata": {},
     "output_type": "execute_result"
    }
   ],
   "source": [
    "lst_com_result"
   ]
  },
  {
   "cell_type": "code",
   "execution_count": null,
   "id": "ebbcaef4",
   "metadata": {},
   "outputs": [],
   "source": []
  },
  {
   "cell_type": "code",
   "execution_count": 20,
   "id": "1bbf5b47",
   "metadata": {},
   "outputs": [],
   "source": [
    "words = [\"apple\", \"banana\", \"kiwi\", \"orange\", \"grape\"]"
   ]
  },
  {
   "cell_type": "code",
   "execution_count": 21,
   "id": "e69582fa",
   "metadata": {},
   "outputs": [],
   "source": [
    "new_C_lst = []\n",
    "car = \"AI\"\n",
    "for word in words:\n",
    "    new_C_lst.append(word+car)"
   ]
  },
  {
   "cell_type": "code",
   "execution_count": 22,
   "id": "99c6b58d",
   "metadata": {},
   "outputs": [
    {
     "data": {
      "text/plain": [
       "['appleAI', 'bananaAI', 'kiwiAI', 'orangeAI', 'grapeAI']"
      ]
     },
     "execution_count": 22,
     "metadata": {},
     "output_type": "execute_result"
    }
   ],
   "source": [
    "new_C_lst"
   ]
  },
  {
   "cell_type": "code",
   "execution_count": 23,
   "id": "177216d3",
   "metadata": {},
   "outputs": [],
   "source": [
    "lst_c = [val+car for val in words]"
   ]
  },
  {
   "cell_type": "code",
   "execution_count": 24,
   "id": "323803ab",
   "metadata": {},
   "outputs": [
    {
     "data": {
      "text/plain": [
       "['appleAI', 'bananaAI', 'kiwiAI', 'orangeAI', 'grapeAI']"
      ]
     },
     "execution_count": 24,
     "metadata": {},
     "output_type": "execute_result"
    }
   ],
   "source": [
    "lst_c"
   ]
  },
  {
   "cell_type": "code",
   "execution_count": null,
   "id": "3edd62bc",
   "metadata": {},
   "outputs": [],
   "source": []
  },
  {
   "cell_type": "code",
   "execution_count": null,
   "id": "73acfff2",
   "metadata": {},
   "outputs": [],
   "source": []
  },
  {
   "cell_type": "code",
   "execution_count": 27,
   "id": "5ce77738",
   "metadata": {},
   "outputs": [
    {
     "name": "stdout",
     "output_type": "stream",
     "text": [
      "['apple', 'BANANA', 'kiwi', 'ORANGE', 'grape']\n"
     ]
    }
   ],
   "source": [
    "def process_words_normal(words):\n",
    "    result = []\n",
    "    for word in words:\n",
    "        if len(word) > 5:\n",
    "            result.append(word.upper())\n",
    "        else:\n",
    "            result.append(word.lower())\n",
    "    return result\n",
    "\n",
    "# Example usage\n",
    "words = [\"apple\", \"banana\", \"kiwi\", \"orange\", \"grape\"]\n",
    "result_normal = process_words_normal(words)\n",
    "print(result_normal)\n"
   ]
  },
  {
   "cell_type": "code",
   "execution_count": 28,
   "id": "e4d99fd4",
   "metadata": {},
   "outputs": [],
   "source": [
    "new_req_lst = [word.upper() if len(word) > 5 else word.lower() for word in words]"
   ]
  },
  {
   "cell_type": "code",
   "execution_count": 29,
   "id": "eed24c4e",
   "metadata": {},
   "outputs": [
    {
     "data": {
      "text/plain": [
       "['apple', 'BANANA', 'kiwi', 'ORANGE', 'grape']"
      ]
     },
     "execution_count": 29,
     "metadata": {},
     "output_type": "execute_result"
    }
   ],
   "source": [
    "new_req_lst"
   ]
  },
  {
   "cell_type": "code",
   "execution_count": null,
   "id": "d1be673b",
   "metadata": {},
   "outputs": [],
   "source": []
  },
  {
   "cell_type": "code",
   "execution_count": null,
   "id": "520f8c4e",
   "metadata": {},
   "outputs": [],
   "source": []
  }
 ],
 "metadata": {
  "kernelspec": {
   "display_name": "Python 3 (ipykernel)",
   "language": "python",
   "name": "python3"
  },
  "language_info": {
   "codemirror_mode": {
    "name": "ipython",
    "version": 3
   },
   "file_extension": ".py",
   "mimetype": "text/x-python",
   "name": "python",
   "nbconvert_exporter": "python",
   "pygments_lexer": "ipython3",
   "version": "3.11.5"
  }
 },
 "nbformat": 4,
 "nbformat_minor": 5
}
