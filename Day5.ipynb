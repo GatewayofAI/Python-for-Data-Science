{
 "cells": [
  {
   "cell_type": "markdown",
   "id": "6393d6bc",
   "metadata": {},
   "source": [
    "# Object-Oriented Programming (OOP) in Python"
   ]
  },
  {
   "cell_type": "markdown",
   "id": "a4843f3b",
   "metadata": {},
   "source": [
    "### Class and Object"
   ]
  },
  {
   "cell_type": "code",
   "execution_count": 46,
   "id": "dbc144d7",
   "metadata": {},
   "outputs": [],
   "source": [
    "class car:\n",
    "    def __init__(self,car_compuny, car_model, car_color,type_of_car):\n",
    "        print(\"Gateway of AI!\")\n",
    "        self.maker = car_compuny\n",
    "        self.model = car_model\n",
    "        self.color = car_color\n",
    "        self.type = type_of_car\n",
    "    \n",
    "    def start(self,start_it):\n",
    "        if start_it:\n",
    "            print(\"Car is started\")\n",
    "            \n",
    "    def stop(self, stop_it):\n",
    "        if stop_it:\n",
    "            print(\"Car get stoped\")\n",
    "    def show_car_detail(self):\n",
    "        print(f\"Car model: {self.model}, color: {self.color}, type: {self.type}\")\n",
    "\n",
    "    \n",
    "            \n"
   ]
  },
  {
   "cell_type": "code",
   "execution_count": 47,
   "id": "10d9d4bb",
   "metadata": {},
   "outputs": [
    {
     "name": "stdout",
     "output_type": "stream",
     "text": [
      "Gateway of AI!\n"
     ]
    }
   ],
   "source": [
    "c = car(\"Toyota\", \"M1\",\"Black\",\"NC\")"
   ]
  },
  {
   "cell_type": "code",
   "execution_count": 48,
   "id": "c879c840",
   "metadata": {},
   "outputs": [
    {
     "name": "stdout",
     "output_type": "stream",
     "text": [
      "Car model: M1, color: Black, type: NC\n"
     ]
    }
   ],
   "source": [
    "c.show_car_detail()"
   ]
  },
  {
   "cell_type": "code",
   "execution_count": 54,
   "id": "a1b91481",
   "metadata": {},
   "outputs": [],
   "source": [
    "class electric_car(car):\n",
    "    def __init__(self, car_company, car_model, car_color, type_of_car):\n",
    "        super().__init__(car_company, car_model, car_color, type_of_car)\n",
    "        self.type = type_of_car\n"
   ]
  },
  {
   "cell_type": "code",
   "execution_count": 55,
   "id": "3a447e72",
   "metadata": {},
   "outputs": [
    {
     "name": "stdout",
     "output_type": "stream",
     "text": [
      "Gateway of AI!\n"
     ]
    }
   ],
   "source": [
    "ec = electric_car(\"Toyota\", \"M1\",\"Black\",\"EC\")"
   ]
  },
  {
   "cell_type": "code",
   "execution_count": 56,
   "id": "5dd5f9f4",
   "metadata": {},
   "outputs": [
    {
     "data": {
      "text/plain": [
       "'EC'"
      ]
     },
     "execution_count": 56,
     "metadata": {},
     "output_type": "execute_result"
    }
   ],
   "source": [
    "ec.type"
   ]
  },
  {
   "cell_type": "code",
   "execution_count": 57,
   "id": "9b6c4352",
   "metadata": {},
   "outputs": [
    {
     "name": "stdout",
     "output_type": "stream",
     "text": [
      "Gateway of AI!\n"
     ]
    }
   ],
   "source": [
    "nc = car(\"Toyota\", \"M1\",\"Black\",\"NC\")"
   ]
  },
  {
   "cell_type": "code",
   "execution_count": 58,
   "id": "cff46246",
   "metadata": {},
   "outputs": [
    {
     "data": {
      "text/plain": [
       "'NC'"
      ]
     },
     "execution_count": 58,
     "metadata": {},
     "output_type": "execute_result"
    }
   ],
   "source": [
    "nc.type"
   ]
  },
  {
   "cell_type": "code",
   "execution_count": 59,
   "id": "77a7ee4e",
   "metadata": {},
   "outputs": [
    {
     "name": "stdout",
     "output_type": "stream",
     "text": [
      "Car model: M1, color: Black, type: EC\n"
     ]
    }
   ],
   "source": [
    "ec.show_car_detail()"
   ]
  },
  {
   "cell_type": "code",
   "execution_count": 60,
   "id": "199f83aa",
   "metadata": {},
   "outputs": [
    {
     "name": "stdout",
     "output_type": "stream",
     "text": [
      "Car model: M1, color: Black, type: NC\n"
     ]
    }
   ],
   "source": [
    "nc.show_car_detail()"
   ]
  },
  {
   "cell_type": "code",
   "execution_count": null,
   "id": "721a7c04",
   "metadata": {},
   "outputs": [],
   "source": []
  },
  {
   "cell_type": "code",
   "execution_count": null,
   "id": "88048ba1",
   "metadata": {},
   "outputs": [],
   "source": []
  },
  {
   "cell_type": "code",
   "execution_count": 51,
   "id": "0f37a7c0",
   "metadata": {},
   "outputs": [
    {
     "name": "stdout",
     "output_type": "stream",
     "text": [
      "Car model: M1, color: Black, type: EC\n"
     ]
    }
   ],
   "source": [
    "ec.show_car_detail()"
   ]
  },
  {
   "cell_type": "code",
   "execution_count": null,
   "id": "e47346d6",
   "metadata": {},
   "outputs": [],
   "source": []
  }
 ],
 "metadata": {
  "kernelspec": {
   "display_name": "Python 3 (ipykernel)",
   "language": "python",
   "name": "python3"
  },
  "language_info": {
   "codemirror_mode": {
    "name": "ipython",
    "version": 3
   },
   "file_extension": ".py",
   "mimetype": "text/x-python",
   "name": "python",
   "nbconvert_exporter": "python",
   "pygments_lexer": "ipython3",
   "version": "3.11.5"
  }
 },
 "nbformat": 4,
 "nbformat_minor": 5
}
